{
 "cells": [
  {
   "cell_type": "code",
   "execution_count": 12,
   "metadata": {},
   "outputs": [
    {
     "name": "stdout",
     "output_type": "stream",
     "text": [
      "['73', '80', '75', '152']\n",
      "['93', '88', '93', '185']\n",
      "['89', '91', '90', '180']\n",
      "['96', '98', '100', '196']\n",
      "['73', '66', '70', '142']\n",
      "['53', '46', '55', '101']\n",
      "['69', '74', '77', '149']\n",
      "['47', '56', '60', '115']\n",
      "['87', '79', '90', '175']\n",
      "['79', '70', '88', '164']\n",
      "['69', '70', '73', '141']\n",
      "['70', '65', '74', '141']\n",
      "['93', '95', '91', '184']\n",
      "['79', '80', '73', '152']\n",
      "['70', '73', '78', '148']\n",
      "['93', '89', '96', '192']\n",
      "['78', '75', '68', '147']\n",
      "['81', '90', '93', '183']\n",
      "['88', '92', '86', '177']\n",
      "['78', '83', '77', '159']\n",
      "['82', '86', '90', '177']\n",
      "['86', '82', '89', '175']\n",
      "['78', '83', '85', '175']\n",
      "['76', '83', '71', '149']\n",
      "['96', '93', '95', '192']\n"
     ]
    }
   ],
   "source": [
    "import csv\n",
    "\n",
    "file_path = \"./data-01-test-score.csv\"\n",
    "f= open(file_path,'r',encoding = 'utf-8')\n",
    "rdr = csv.reader(f)\n",
    "\n",
    "for line in rdr:\n",
    "    print(line)\n",
    "f.close()\n"
   ]
  },
  {
   "cell_type": "code",
   "execution_count": 11,
   "metadata": {},
   "outputs": [
    {
     "data": {
      "text/plain": [
       "<__main__.open_csv at 0x20969df3788>"
      ]
     },
     "execution_count": 11,
     "metadata": {},
     "output_type": "execute_result"
    }
   ],
   "source": []
  },
  {
   "cell_type": "code",
   "execution_count": null,
   "metadata": {},
   "outputs": [],
   "source": []
  }
 ],
 "metadata": {
  "kernelspec": {
   "display_name": "Python 3",
   "language": "python",
   "name": "python3"
  },
  "language_info": {
   "codemirror_mode": {
    "name": "ipython",
    "version": 3
   },
   "file_extension": ".py",
   "mimetype": "text/x-python",
   "name": "python",
   "nbconvert_exporter": "python",
   "pygments_lexer": "ipython3",
   "version": "3.7.4"
  }
 },
 "nbformat": 4,
 "nbformat_minor": 2
}
